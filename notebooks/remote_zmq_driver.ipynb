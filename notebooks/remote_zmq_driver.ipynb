{
 "cells": [
  {
   "cell_type": "markdown",
   "metadata": {},
   "source": [
    "# Serial communication on remote instruments\n",
    "\n",
    "Some instruments support serial communication through USB or RS232 ports. While hubs can extend the number of supported devices, sometimes other limitations such as distance do not allow equipment to be physically connected to a single instrumentation server, complicating experiments.\n",
    "\n",
    "Lightlab's solution to this is the \"remote_serial\" driver, a secondary client-server interface that relays commands between a user-controlled \"client\" machine and a remote \"server\" machine that is physically connected to the instrument to be controlled:\n",
    "\n",
    "`User ---> [CLIENT e.g. lab instrumentation server] <---ZeroMQ---> [SERVER e.g. Raspberry Pi] <---Serial---> Instrument`\n",
    "\n",
    "This is based on the asynchronous messaging platform [ZeroMQ](https://zeromq.org/). A ZMQ server is fast, lightweight, and can ensure continuity between experimental sessions.\n",
    "\n",
    "A downside of the ZMQ method is that a server process must be initialized on the server device. This can be automated by Lightlab. When instanciating an instrument with the `remote_serial` interface, the driver first checks if the requested server is already running on the server, and if not, it uses [Fabric](https://www.fabfile.org/index.html) to upload the server code to the server and launch the server. The user only needs to ensure that the device can be found on the network accessible to the client, and note the login credentials and address.\n",
    "\n",
    "Current requirements of the remote server:\n",
    "* Python 3+\n",
    "* tmux\n",
    "* (only to launch the server using lightlab) passwordless SSH ability (copy-ssh-id)\n",
    "\n",
    "## Example with MDT693B_OLPC driver\n",
    "\n",
    "The Thorlabs MDT693B Piezo Controller has a USB interface. We want to control remotely from a central server (in this context, the \"client\"), so we connect it to a Raspberry PI controller (here, the \"server\") which is network-visible to the client.\n",
    "\n",
    "The MDT693B_OLPC driver inherits from the ZMQclient class. Instead of a GPIB or Ethernet address, it needs the username and IP address of its controller (here, Raspberry Pi). Note that one full `zmq_timeout` is required to check if the code fails to detect a live server on the server."
   ]
  },
  {
   "cell_type": "code",
   "execution_count": 7,
   "metadata": {},
   "outputs": [
    {
     "name": "stdout",
     "output_type": "stream",
     "text": [
      "Starting server 5556 on pi:128.112.50.75\n"
     ]
    }
   ],
   "source": [
    "from lightlab.equipment.lab_instruments.MDT693B_OLPC import MDT693B_OLPC\n",
    "from lightlab.equipment.visa_bases import ZMQclient\n",
    "\n",
    "import numpy as np\n",
    "from IPython.display import clear_output\n",
    "import serial\n",
    "\n",
    "stage = MDT693B_OLPC(name='stage', \n",
    "                # Server SSH settings\n",
    "                server_user='pi',\n",
    "                server_address='128.112.50.75',\n",
    "                # ZMQ settings\n",
    "                zmq_port=5556,\n",
    "                zmq_timeout=15,\n",
    "                zmq_retries=3,\n",
    "                server_filename='./tmp/serial_server.py',\n",
    "                tmux_session_prefix='zmq',\n",
    "                separator='___',\n",
    "                # Serial equipment settings\n",
    "                serial_port=\"/dev/ttyACM0\",\n",
    "                serial_baud=115200,\n",
    "                serial_timeout=5,\n",
    "                        )"
   ]
  },
  {
   "cell_type": "markdown",
   "metadata": {},
   "source": [
    "#### Server arguments\n",
    "\n",
    "The first arguments parametrize the `client` <--> `server` SSH connection.\n",
    "\n",
    "`server_address` is the IP address of the server controller.\n",
    "\n",
    "`server_user` is the username of the server controller.\n",
    "\n",
    "As of now, this scheme requires [passwordless access](https://linuxize.com/post/how-to-setup-passwordless-ssh-login/) from the client to the server. Running `ssh server_user@server_address` should not prompt for a password.\n",
    "\n",
    "#### ZMQ arguments\n",
    "\n",
    "The zmq arguments parametrize the `client` <--> `server` ZeroMQ (continuous) connection.\n",
    "\n",
    "`zmq_port` is the TCP socket that zmq will use to relay commands. If more than one such connection is made to the controller, different values should be used.\n",
    "\n",
    "`zmq_timeout` timeout for server <--> client communication\n",
    "\n",
    "`zmq_retries` is how many reconnection attempts are performed when a command cannot reach the server.\n",
    "\n",
    "`server_filename` is the filename under which the server script is uploaded to the server. Default is `~/tmp/serial_server.py`\n",
    "\n",
    "`tmux_session_prefix` is the prefix of the tmux session under which the zmq server is persistently run after severing the SSH connection. By default, it is `zmq`, and results in a full session name `{tmux_session_prefix}_{zmq_port}`.\n",
    "\n",
    "`separator` is the delimiting character(s) that separate the command header from the command. By default `___`.\n",
    "\n",
    "\n",
    "#### Serial connection arguments\n",
    "\n",
    "The below arguments parametrize the `server` <--> `instrument` connection.\n",
    "\n",
    "The `serial_baud` was obtained from the instrument's manual.\n",
    "\n",
    "The `serial_port` was found by scanning the controller's USB ports. The below bash script may help:\n",
    "\n",
    "```\n",
    "#!/bin/bash\n",
    "\n",
    "for sysdevpath in $(find /sys/bus/usb/devices/usb*/ -name dev); do\n",
    "    (\n",
    "        syspath=\"${sysdevpath%/dev}\"\n",
    "        devname=\"$(udevadm info -q name -p $syspath)\"\n",
    "        [[ \"$devname\" == \"bus/\"* ]] && exit\n",
    "        eval \"$(udevadm info -q property --export -p $syspath)\"\n",
    "        [[ -z \"$ID_SERIAL\" ]] && exit\n",
    "        echo \"/dev/$devname - $ID_SERIAL\"\n",
    "    )\n",
    "done\n",
    "```\n",
    "\n",
    "The timeouts are made high enough to ensure reliable communication (trial and error might be required here)."
   ]
  },
  {
   "cell_type": "markdown",
   "metadata": {},
   "source": [
    "### Driver-level operation\n",
    "\n",
    "Since MDT693B_OLPC inherits from the ZMQclient class, its driver functions can directly call the `request`, `write`, etc. method. Hence, a programmer only needs to translate serial commands from the MDT693B like so:\n",
    "\n",
    "```\n",
    "def get_volt(self, axis):\n",
    "    cmd = \"{}voltage?\".format(axis)\n",
    "    ans = self.request(cmd)\n",
    "    return float(ans.strip('[]\\r> '))\n",
    "```\n",
    "\n",
    "Here, the `cmd` to read the voltage was lifted from the instrument programming manual. The `request` method from `ZMQclient`, via the instanciated `ZMQserver` instanciated on the controller, will pass the string command to the instrument and return the result. The user then only needs to parse as required by the instrument response. There is also a `write` method which sends messages to the instrument without waiting for a response."
   ]
  },
  {
   "cell_type": "code",
   "execution_count": 8,
   "metadata": {},
   "outputs": [
    {
     "data": {
      "text/plain": [
       "12.05"
      ]
     },
     "execution_count": 8,
     "metadata": {},
     "output_type": "execute_result"
    }
   ],
   "source": [
    "stage.get_volt('x')"
   ]
  },
  {
   "cell_type": "code",
   "execution_count": 9,
   "metadata": {},
   "outputs": [],
   "source": [
    "stage.set_volt('x', 15)"
   ]
  },
  {
   "cell_type": "code",
   "execution_count": 10,
   "metadata": {},
   "outputs": [
    {
     "data": {
      "text/plain": [
       "15.04"
      ]
     },
     "execution_count": 10,
     "metadata": {},
     "output_type": "execute_result"
    }
   ],
   "source": [
    "stage.get_volt('x')"
   ]
  },
  {
   "cell_type": "code",
   "execution_count": 11,
   "metadata": {},
   "outputs": [
    {
     "data": {
      "text/plain": [
       "1"
      ]
     },
     "execution_count": 11,
     "metadata": {},
     "output_type": "execute_result"
    }
   ],
   "source": [
    "stage.terminate()"
   ]
  },
  {
   "cell_type": "markdown",
   "metadata": {},
   "source": [
    "Since we have terminated the server (which should not really be required), below is a timeout (need to improve error handling):"
   ]
  },
  {
   "cell_type": "code",
   "execution_count": 12,
   "metadata": {},
   "outputs": [
    {
     "ename": "ZMQError",
     "evalue": "Operation not supported",
     "output_type": "error",
     "traceback": [
      "\u001b[0;31m---------------------------------------------------------------------------\u001b[0m",
      "\u001b[0;31mZMQError\u001b[0m                                  Traceback (most recent call last)",
      "\u001b[0;32m<ipython-input-12-b731a4c71e4f>\u001b[0m in \u001b[0;36m<module>\u001b[0;34m\u001b[0m\n\u001b[0;32m----> 1\u001b[0;31m \u001b[0mstage\u001b[0m\u001b[0;34m.\u001b[0m\u001b[0mget_volt\u001b[0m\u001b[0;34m(\u001b[0m\u001b[0;34m'x'\u001b[0m\u001b[0;34m)\u001b[0m\u001b[0;34m\u001b[0m\u001b[0;34m\u001b[0m\u001b[0m\n\u001b[0m",
      "\u001b[0;32m~/Github/lightlab/lightlab/equipment/lab_instruments/MDT693B_OLPC.py\u001b[0m in \u001b[0;36mget_volt\u001b[0;34m(self, axis)\u001b[0m\n\u001b[1;32m     38\u001b[0m     \u001b[0;32mdef\u001b[0m \u001b[0mget_volt\u001b[0m\u001b[0;34m(\u001b[0m\u001b[0mself\u001b[0m\u001b[0;34m,\u001b[0m \u001b[0maxis\u001b[0m\u001b[0;34m)\u001b[0m\u001b[0;34m:\u001b[0m\u001b[0;34m\u001b[0m\u001b[0;34m\u001b[0m\u001b[0m\n\u001b[1;32m     39\u001b[0m         \u001b[0mcmd\u001b[0m \u001b[0;34m=\u001b[0m \u001b[0;34m\"{}voltage?\"\u001b[0m\u001b[0;34m.\u001b[0m\u001b[0mformat\u001b[0m\u001b[0;34m(\u001b[0m\u001b[0maxis\u001b[0m\u001b[0;34m)\u001b[0m\u001b[0;34m\u001b[0m\u001b[0;34m\u001b[0m\u001b[0m\n\u001b[0;32m---> 40\u001b[0;31m         \u001b[0mans\u001b[0m \u001b[0;34m=\u001b[0m \u001b[0mself\u001b[0m\u001b[0;34m.\u001b[0m\u001b[0mrequest\u001b[0m\u001b[0;34m(\u001b[0m\u001b[0mcmd\u001b[0m\u001b[0;34m)\u001b[0m\u001b[0;34m\u001b[0m\u001b[0;34m\u001b[0m\u001b[0m\n\u001b[0m\u001b[1;32m     41\u001b[0m         \u001b[0;32mreturn\u001b[0m \u001b[0mfloat\u001b[0m\u001b[0;34m(\u001b[0m\u001b[0mans\u001b[0m\u001b[0;34m.\u001b[0m\u001b[0mstrip\u001b[0m\u001b[0;34m(\u001b[0m\u001b[0;34m'[]\\r> '\u001b[0m\u001b[0;34m)\u001b[0m\u001b[0;34m)\u001b[0m\u001b[0;34m\u001b[0m\u001b[0;34m\u001b[0m\u001b[0m\n\u001b[1;32m     42\u001b[0m \u001b[0;34m\u001b[0m\u001b[0m\n",
      "\u001b[0;32m~/Github/lightlab/lightlab/equipment/visa_bases/remote_serial_driver.py\u001b[0m in \u001b[0;36mrequest\u001b[0;34m(self, command, header)\u001b[0m\n\u001b[1;32m    133\u001b[0m         \u001b[0;32mwhile\u001b[0m \u001b[0;32mTrue\u001b[0m\u001b[0;34m:\u001b[0m\u001b[0;34m\u001b[0m\u001b[0;34m\u001b[0m\u001b[0m\n\u001b[1;32m    134\u001b[0m             \u001b[0;31m# If get an answer:\u001b[0m\u001b[0;34m\u001b[0m\u001b[0;34m\u001b[0m\u001b[0;34m\u001b[0m\u001b[0m\n\u001b[0;32m--> 135\u001b[0;31m             \u001b[0;32mif\u001b[0m \u001b[0;34m(\u001b[0m\u001b[0msocket\u001b[0m\u001b[0;34m.\u001b[0m\u001b[0mpoll\u001b[0m\u001b[0;34m(\u001b[0m\u001b[0mself\u001b[0m\u001b[0;34m.\u001b[0m\u001b[0mzmq_timeout\u001b[0m\u001b[0;34m*\u001b[0m\u001b[0;36m1000\u001b[0m\u001b[0;34m)\u001b[0m \u001b[0;34m&\u001b[0m \u001b[0mzmq\u001b[0m\u001b[0;34m.\u001b[0m\u001b[0mPOLLIN\u001b[0m\u001b[0;34m)\u001b[0m \u001b[0;34m!=\u001b[0m \u001b[0;36m0\u001b[0m\u001b[0;34m:\u001b[0m\u001b[0;34m\u001b[0m\u001b[0;34m\u001b[0m\u001b[0m\n\u001b[0m\u001b[1;32m    136\u001b[0m                 \u001b[0;31m# Wait for and return response\u001b[0m\u001b[0;34m\u001b[0m\u001b[0;34m\u001b[0m\u001b[0;34m\u001b[0m\u001b[0m\n\u001b[1;32m    137\u001b[0m                 \u001b[0mreply\u001b[0m \u001b[0;34m=\u001b[0m \u001b[0msocket\u001b[0m\u001b[0;34m.\u001b[0m\u001b[0mrecv\u001b[0m\u001b[0;34m(\u001b[0m\u001b[0;34m)\u001b[0m\u001b[0;34m\u001b[0m\u001b[0;34m\u001b[0m\u001b[0m\n",
      "\u001b[0;32m~/miniconda3/envs/lightlab/lib/python3.7/site-packages/zmq/sugar/socket.py\u001b[0m in \u001b[0;36mpoll\u001b[0;34m(self, timeout, flags)\u001b[0m\n\u001b[1;32m    691\u001b[0m \u001b[0;34m\u001b[0m\u001b[0m\n\u001b[1;32m    692\u001b[0m         \u001b[0;32mif\u001b[0m \u001b[0mself\u001b[0m\u001b[0;34m.\u001b[0m\u001b[0mclosed\u001b[0m\u001b[0;34m:\u001b[0m\u001b[0;34m\u001b[0m\u001b[0;34m\u001b[0m\u001b[0m\n\u001b[0;32m--> 693\u001b[0;31m             \u001b[0;32mraise\u001b[0m \u001b[0mZMQError\u001b[0m\u001b[0;34m(\u001b[0m\u001b[0mENOTSUP\u001b[0m\u001b[0;34m)\u001b[0m\u001b[0;34m\u001b[0m\u001b[0;34m\u001b[0m\u001b[0m\n\u001b[0m\u001b[1;32m    694\u001b[0m \u001b[0;34m\u001b[0m\u001b[0m\n\u001b[1;32m    695\u001b[0m         \u001b[0mp\u001b[0m \u001b[0;34m=\u001b[0m \u001b[0mself\u001b[0m\u001b[0;34m.\u001b[0m\u001b[0m_poller_class\u001b[0m\u001b[0;34m(\u001b[0m\u001b[0;34m)\u001b[0m\u001b[0;34m\u001b[0m\u001b[0;34m\u001b[0m\u001b[0m\n",
      "\u001b[0;31mZMQError\u001b[0m: Operation not supported"
     ]
    }
   ],
   "source": [
    "stage.get_volt('x')"
   ]
  },
  {
   "cell_type": "markdown",
   "metadata": {},
   "source": [
    "### Under the hood\n",
    "\n",
    "The ZMQ client <--> server purely exchanges messages, and so details are left to the programmer. Here, the `client` attempts to send messages to a continuously-listening `server` (through its `run` method), and waits for a response. Some amount of message parsing is done at the `server` level through alphanumeric `cmd_header` values appended at the beginning of the communication, parsed through the `separator` argument. This allows some commands to not be relayed to the connected instrument and trigger something on the server itself (such as `ping`, `terminate`, etc.), or to alter the behaviour of the serial communication (for instance, `request` having along timeout to wait for responses, and `write` having a short one). There may be more robust ways to do this, for instance with sequences of messages."
   ]
  }
 ],
 "metadata": {
  "interpreter": {
   "hash": "10e33293ef4e883f40babe4d6b690470d45e57e0241ac34d69dfde204a74e2b3"
  },
  "kernelspec": {
   "display_name": "Python 3.6.13 ('lightlab': conda)",
   "language": "python",
   "name": "python3"
  },
  "language_info": {
   "codemirror_mode": {
    "name": "ipython",
    "version": 3
   },
   "file_extension": ".py",
   "mimetype": "text/x-python",
   "name": "python",
   "nbconvert_exporter": "python",
   "pygments_lexer": "ipython3",
   "version": "3.7.13"
  },
  "orig_nbformat": 4
 },
 "nbformat": 4,
 "nbformat_minor": 2
}
